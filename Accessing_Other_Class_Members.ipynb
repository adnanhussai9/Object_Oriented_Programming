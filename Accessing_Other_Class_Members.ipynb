{
 "cells": [
  {
   "cell_type": "code",
   "execution_count": 20,
   "id": "b92fc1a7",
   "metadata": {},
   "outputs": [
    {
     "name": "stdout",
     "output_type": "stream",
     "text": [
      "Employee Name: Adnan\n",
      "Employee Salary: 2000000\n"
     ]
    }
   ],
   "source": [
    "class Employee:\n",
    "    def __init__(self,ename,esal):\n",
    "        self.ename = ename\n",
    "        self.esal = esal\n",
    "        \n",
    "\n",
    "class Manager:\n",
    "    # Static Method\n",
    "    def driver(emp):\n",
    "        print(\"Employee Name:\",emp.ename)\n",
    "        print(\"Employee Salary:\",emp.esal)\n",
    "e = Employee(\"Adnan\",2000000)\n",
    "Manager.driver(e)"
   ]
  },
  {
   "cell_type": "markdown",
   "id": "fc3c74f3",
   "metadata": {},
   "source": [
    "#### Updating the variable of `other class`"
   ]
  },
  {
   "cell_type": "code",
   "execution_count": 5,
   "id": "b8e0c028",
   "metadata": {},
   "outputs": [
    {
     "name": "stdout",
     "output_type": "stream",
     "text": [
      "Employee ID: 25463\n",
      "Employee Name: Adnan\n",
      "Employee Salary: 90000\n"
     ]
    }
   ],
   "source": [
    "class Employee:\n",
    "    def __init__(self, eid, ename, esal):\n",
    "        self.eid = eid\n",
    "        self.ename = ename\n",
    "        self.esal = esal\n",
    "    def display(self):\n",
    "        print(\"Employee ID:\",self.eid)\n",
    "        print(\"Employee Name:\",self.ename)\n",
    "        print(\"Employee Salary:\",self.esal)\n",
    "\n",
    "class Manager:\n",
    "    # static method\n",
    "    def m1(emp):\n",
    "        emp.esal = emp.esal + 10000\n",
    "        emp.display()\n",
    "e = Employee(25463, \"Adnan\", 80000)\n",
    "Manager.m1(e)"
   ]
  },
  {
   "cell_type": "markdown",
   "id": "5d0a8398",
   "metadata": {},
   "source": [
    "#### Passing different object reference variable to same method"
   ]
  },
  {
   "cell_type": "code",
   "execution_count": 22,
   "id": "a93199f2",
   "metadata": {},
   "outputs": [
    {
     "name": "stdout",
     "output_type": "stream",
     "text": [
      "Employee/Customer Name: Adnan\n",
      "Employee/Customer Name: Hussain\n"
     ]
    }
   ],
   "source": [
    "class Employee:\n",
    "    def __init__(self,name):\n",
    "        self.name = name\n",
    "        \n",
    "class Customer:\n",
    "    def __init__(self,name):\n",
    "        self.name = name\n",
    "        \n",
    "\n",
    "class Manager:\n",
    "    # Static Method\n",
    "    def driver(emp):\n",
    "        print(\"Employee/Customer Name:\",emp.name)\n",
    "        \n",
    "e = Employee(\"Adnan\")\n",
    "c = Customer(\"Hussain\")\n",
    "Manager.driver(e)\n",
    "Manager.driver(c)"
   ]
  }
 ],
 "metadata": {
  "kernelspec": {
   "display_name": "Python 3 (ipykernel)",
   "language": "python",
   "name": "python3"
  },
  "language_info": {
   "codemirror_mode": {
    "name": "ipython",
    "version": 3
   },
   "file_extension": ".py",
   "mimetype": "text/x-python",
   "name": "python",
   "nbconvert_exporter": "python",
   "pygments_lexer": "ipython3",
   "version": "3.9.7"
  }
 },
 "nbformat": 4,
 "nbformat_minor": 5
}
