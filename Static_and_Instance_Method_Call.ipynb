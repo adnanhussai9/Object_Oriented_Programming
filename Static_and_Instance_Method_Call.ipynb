{
 "cells": [
  {
   "cell_type": "markdown",
   "id": "ac4d19dd",
   "metadata": {},
   "source": [
    "### Static Method call\n",
    "For Static Method @staticmethod decorator is optional "
   ]
  },
  {
   "cell_type": "code",
   "execution_count": 2,
   "id": "c60814f5",
   "metadata": {},
   "outputs": [
    {
     "name": "stdout",
     "output_type": "stream",
     "text": [
      "This is a method\n"
     ]
    }
   ],
   "source": [
    "class Test:\n",
    "    def m1():\n",
    "        print(\"This is a method\")\n",
    "        \n",
    "Test.m1()"
   ]
  },
  {
   "cell_type": "markdown",
   "id": "7d38f392",
   "metadata": {},
   "source": [
    "### Instance Method Call\n",
    "No Decorators required"
   ]
  },
  {
   "cell_type": "code",
   "execution_count": 3,
   "id": "d8215726",
   "metadata": {},
   "outputs": [
    {
     "ename": "TypeError",
     "evalue": "m1() takes 0 positional arguments but 1 was given",
     "output_type": "error",
     "traceback": [
      "\u001b[1;31m---------------------------------------------------------------------------\u001b[0m",
      "\u001b[1;31mTypeError\u001b[0m                                 Traceback (most recent call last)",
      "\u001b[1;32m~\\AppData\\Local\\Temp/ipykernel_7508/2354428185.py\u001b[0m in \u001b[0;36m<module>\u001b[1;34m\u001b[0m\n\u001b[0;32m      3\u001b[0m         \u001b[0mprint\u001b[0m\u001b[1;33m(\u001b[0m\u001b[1;34m\"This is a method\"\u001b[0m\u001b[1;33m)\u001b[0m\u001b[1;33m\u001b[0m\u001b[1;33m\u001b[0m\u001b[0m\n\u001b[0;32m      4\u001b[0m \u001b[0mt\u001b[0m\u001b[1;33m=\u001b[0m\u001b[0mTest\u001b[0m\u001b[1;33m(\u001b[0m\u001b[1;33m)\u001b[0m\u001b[1;33m\u001b[0m\u001b[1;33m\u001b[0m\u001b[0m\n\u001b[1;32m----> 5\u001b[1;33m \u001b[0mt\u001b[0m\u001b[1;33m.\u001b[0m\u001b[0mm1\u001b[0m\u001b[1;33m(\u001b[0m\u001b[1;33m)\u001b[0m\u001b[1;33m\u001b[0m\u001b[1;33m\u001b[0m\u001b[0m\n\u001b[0m",
      "\u001b[1;31mTypeError\u001b[0m: m1() takes 0 positional arguments but 1 was given"
     ]
    }
   ],
   "source": [
    "class Test:\n",
    "    def m1():\n",
    "        print(\"This is a method\")        \n",
    "t=Test()\n",
    "t.m1()"
   ]
  },
  {
   "cell_type": "markdown",
   "id": "da559906",
   "metadata": {},
   "source": [
    "#### In the above code we are making the method an instance method and instance method require an `argument generally self`"
   ]
  },
  {
   "cell_type": "code",
   "execution_count": 5,
   "id": "f73940ee",
   "metadata": {},
   "outputs": [
    {
     "name": "stdout",
     "output_type": "stream",
     "text": [
      "This is a method\n"
     ]
    }
   ],
   "source": [
    "class Test:\n",
    "    def m1(self):\n",
    "        print(\"This is a method\")\n",
    "t=Test()\n",
    "t.m1()\n",
    "# Now that we have given the positional argument, there is no error."
   ]
  }
 ],
 "metadata": {
  "kernelspec": {
   "display_name": "Python 3 (ipykernel)",
   "language": "python",
   "name": "python3"
  },
  "language_info": {
   "codemirror_mode": {
    "name": "ipython",
    "version": 3
   },
   "file_extension": ".py",
   "mimetype": "text/x-python",
   "name": "python",
   "nbconvert_exporter": "python",
   "pygments_lexer": "ipython3",
   "version": "3.9.7"
  }
 },
 "nbformat": 4,
 "nbformat_minor": 5
}
